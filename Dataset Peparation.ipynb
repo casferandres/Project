{
 "cells": [
  {
   "cell_type": "markdown",
   "id": "3228e615",
   "metadata": {},
   "source": [
    "## Importación de librerias"
   ]
  },
  {
   "cell_type": "code",
   "execution_count": 45,
   "id": "5cc92c0e",
   "metadata": {},
   "outputs": [],
   "source": [
    "import pandas as pd\n",
    "import numpy as np\n",
    "import seaborn as sns\n",
    "import matplotlib.pyplot as plt\n",
    "import plotly.express as px\n",
    "import warnings\n",
    "warnings.filterwarnings('ignore')"
   ]
  },
  {
   "cell_type": "markdown",
   "id": "87714eb7",
   "metadata": {},
   "source": [
    "## Lectura del dataset"
   ]
  },
  {
   "cell_type": "code",
   "execution_count": 46,
   "id": "5c18d37b",
   "metadata": {},
   "outputs": [],
   "source": [
    "df_ = pd.read_csv('netflix_titles.csv')"
   ]
  },
  {
   "cell_type": "code",
   "execution_count": 47,
   "id": "caccdf5c",
   "metadata": {},
   "outputs": [
    {
     "name": "stdout",
     "output_type": "stream",
     "text": [
      "<class 'pandas.core.frame.DataFrame'>\n",
      "RangeIndex: 8807 entries, 0 to 8806\n",
      "Data columns (total 12 columns):\n",
      " #   Column        Non-Null Count  Dtype \n",
      "---  ------        --------------  ----- \n",
      " 0   show_id       8807 non-null   object\n",
      " 1   type          8807 non-null   object\n",
      " 2   title         8807 non-null   object\n",
      " 3   director      6173 non-null   object\n",
      " 4   cast          7982 non-null   object\n",
      " 5   country       7976 non-null   object\n",
      " 6   date_added    8797 non-null   object\n",
      " 7   release_year  8807 non-null   int64 \n",
      " 8   rating        8803 non-null   object\n",
      " 9   duration      8804 non-null   object\n",
      " 10  listed_in     8807 non-null   object\n",
      " 11  description   8807 non-null   object\n",
      "dtypes: int64(1), object(11)\n",
      "memory usage: 825.8+ KB\n"
     ]
    }
   ],
   "source": [
    "df_.info()"
   ]
  },
  {
   "cell_type": "code",
   "execution_count": 48,
   "id": "9b9046f4",
   "metadata": {},
   "outputs": [],
   "source": [
    "df_[\"date_added\"] = pd.to_datetime(df_['date_added'])"
   ]
  },
  {
   "cell_type": "code",
   "execution_count": 49,
   "id": "06e9c04a",
   "metadata": {},
   "outputs": [
    {
     "name": "stdout",
     "output_type": "stream",
     "text": [
      "<class 'pandas.core.frame.DataFrame'>\n",
      "RangeIndex: 8807 entries, 0 to 8806\n",
      "Data columns (total 12 columns):\n",
      " #   Column        Non-Null Count  Dtype         \n",
      "---  ------        --------------  -----         \n",
      " 0   show_id       8807 non-null   object        \n",
      " 1   type          8807 non-null   object        \n",
      " 2   title         8807 non-null   object        \n",
      " 3   director      6173 non-null   object        \n",
      " 4   cast          7982 non-null   object        \n",
      " 5   country       7976 non-null   object        \n",
      " 6   date_added    8797 non-null   datetime64[ns]\n",
      " 7   release_year  8807 non-null   int64         \n",
      " 8   rating        8803 non-null   object        \n",
      " 9   duration      8804 non-null   object        \n",
      " 10  listed_in     8807 non-null   object        \n",
      " 11  description   8807 non-null   object        \n",
      "dtypes: datetime64[ns](1), int64(1), object(10)\n",
      "memory usage: 825.8+ KB\n"
     ]
    }
   ],
   "source": [
    "df_.info()"
   ]
  },
  {
   "cell_type": "code",
   "execution_count": 50,
   "id": "b76fdec4",
   "metadata": {},
   "outputs": [
    {
     "data": {
      "text/html": [
       "<div>\n",
       "<style scoped>\n",
       "    .dataframe tbody tr th:only-of-type {\n",
       "        vertical-align: middle;\n",
       "    }\n",
       "\n",
       "    .dataframe tbody tr th {\n",
       "        vertical-align: top;\n",
       "    }\n",
       "\n",
       "    .dataframe thead th {\n",
       "        text-align: right;\n",
       "    }\n",
       "</style>\n",
       "<table border=\"1\" class=\"dataframe\">\n",
       "  <thead>\n",
       "    <tr style=\"text-align: right;\">\n",
       "      <th></th>\n",
       "      <th>show_id</th>\n",
       "      <th>type</th>\n",
       "      <th>title</th>\n",
       "      <th>director</th>\n",
       "      <th>cast</th>\n",
       "      <th>country</th>\n",
       "      <th>date_added</th>\n",
       "      <th>release_year</th>\n",
       "      <th>rating</th>\n",
       "      <th>duration</th>\n",
       "      <th>listed_in</th>\n",
       "      <th>description</th>\n",
       "    </tr>\n",
       "  </thead>\n",
       "  <tbody>\n",
       "    <tr>\n",
       "      <th>0</th>\n",
       "      <td>s1</td>\n",
       "      <td>Movie</td>\n",
       "      <td>Dick Johnson Is Dead</td>\n",
       "      <td>Kirsten Johnson</td>\n",
       "      <td>NaN</td>\n",
       "      <td>United States</td>\n",
       "      <td>2021-09-25</td>\n",
       "      <td>2020</td>\n",
       "      <td>PG-13</td>\n",
       "      <td>90 min</td>\n",
       "      <td>Documentaries</td>\n",
       "      <td>As her father nears the end of his life, filmm...</td>\n",
       "    </tr>\n",
       "    <tr>\n",
       "      <th>1</th>\n",
       "      <td>s2</td>\n",
       "      <td>TV Show</td>\n",
       "      <td>Blood &amp; Water</td>\n",
       "      <td>NaN</td>\n",
       "      <td>Ama Qamata, Khosi Ngema, Gail Mabalane, Thaban...</td>\n",
       "      <td>South Africa</td>\n",
       "      <td>2021-09-24</td>\n",
       "      <td>2021</td>\n",
       "      <td>TV-MA</td>\n",
       "      <td>2 Seasons</td>\n",
       "      <td>International TV Shows, TV Dramas, TV Mysteries</td>\n",
       "      <td>After crossing paths at a party, a Cape Town t...</td>\n",
       "    </tr>\n",
       "    <tr>\n",
       "      <th>2</th>\n",
       "      <td>s3</td>\n",
       "      <td>TV Show</td>\n",
       "      <td>Ganglands</td>\n",
       "      <td>Julien Leclercq</td>\n",
       "      <td>Sami Bouajila, Tracy Gotoas, Samuel Jouy, Nabi...</td>\n",
       "      <td>NaN</td>\n",
       "      <td>2021-09-24</td>\n",
       "      <td>2021</td>\n",
       "      <td>TV-MA</td>\n",
       "      <td>1 Season</td>\n",
       "      <td>Crime TV Shows, International TV Shows, TV Act...</td>\n",
       "      <td>To protect his family from a powerful drug lor...</td>\n",
       "    </tr>\n",
       "    <tr>\n",
       "      <th>3</th>\n",
       "      <td>s4</td>\n",
       "      <td>TV Show</td>\n",
       "      <td>Jailbirds New Orleans</td>\n",
       "      <td>NaN</td>\n",
       "      <td>NaN</td>\n",
       "      <td>NaN</td>\n",
       "      <td>2021-09-24</td>\n",
       "      <td>2021</td>\n",
       "      <td>TV-MA</td>\n",
       "      <td>1 Season</td>\n",
       "      <td>Docuseries, Reality TV</td>\n",
       "      <td>Feuds, flirtations and toilet talk go down amo...</td>\n",
       "    </tr>\n",
       "    <tr>\n",
       "      <th>4</th>\n",
       "      <td>s5</td>\n",
       "      <td>TV Show</td>\n",
       "      <td>Kota Factory</td>\n",
       "      <td>NaN</td>\n",
       "      <td>Mayur More, Jitendra Kumar, Ranjan Raj, Alam K...</td>\n",
       "      <td>India</td>\n",
       "      <td>2021-09-24</td>\n",
       "      <td>2021</td>\n",
       "      <td>TV-MA</td>\n",
       "      <td>2 Seasons</td>\n",
       "      <td>International TV Shows, Romantic TV Shows, TV ...</td>\n",
       "      <td>In a city of coaching centers known to train I...</td>\n",
       "    </tr>\n",
       "  </tbody>\n",
       "</table>\n",
       "</div>"
      ],
      "text/plain": [
       "  show_id     type                  title         director  \\\n",
       "0      s1    Movie   Dick Johnson Is Dead  Kirsten Johnson   \n",
       "1      s2  TV Show          Blood & Water              NaN   \n",
       "2      s3  TV Show              Ganglands  Julien Leclercq   \n",
       "3      s4  TV Show  Jailbirds New Orleans              NaN   \n",
       "4      s5  TV Show           Kota Factory              NaN   \n",
       "\n",
       "                                                cast        country  \\\n",
       "0                                                NaN  United States   \n",
       "1  Ama Qamata, Khosi Ngema, Gail Mabalane, Thaban...   South Africa   \n",
       "2  Sami Bouajila, Tracy Gotoas, Samuel Jouy, Nabi...            NaN   \n",
       "3                                                NaN            NaN   \n",
       "4  Mayur More, Jitendra Kumar, Ranjan Raj, Alam K...          India   \n",
       "\n",
       "  date_added  release_year rating   duration  \\\n",
       "0 2021-09-25          2020  PG-13     90 min   \n",
       "1 2021-09-24          2021  TV-MA  2 Seasons   \n",
       "2 2021-09-24          2021  TV-MA   1 Season   \n",
       "3 2021-09-24          2021  TV-MA   1 Season   \n",
       "4 2021-09-24          2021  TV-MA  2 Seasons   \n",
       "\n",
       "                                           listed_in  \\\n",
       "0                                      Documentaries   \n",
       "1    International TV Shows, TV Dramas, TV Mysteries   \n",
       "2  Crime TV Shows, International TV Shows, TV Act...   \n",
       "3                             Docuseries, Reality TV   \n",
       "4  International TV Shows, Romantic TV Shows, TV ...   \n",
       "\n",
       "                                         description  \n",
       "0  As her father nears the end of his life, filmm...  \n",
       "1  After crossing paths at a party, a Cape Town t...  \n",
       "2  To protect his family from a powerful drug lor...  \n",
       "3  Feuds, flirtations and toilet talk go down amo...  \n",
       "4  In a city of coaching centers known to train I...  "
      ]
     },
     "execution_count": 50,
     "metadata": {},
     "output_type": "execute_result"
    }
   ],
   "source": [
    "#Revisión de dataset\n",
    "df_.head()"
   ]
  },
  {
   "cell_type": "code",
   "execution_count": 51,
   "id": "b5e78bf9",
   "metadata": {},
   "outputs": [
    {
     "data": {
      "text/html": [
       "<div>\n",
       "<style scoped>\n",
       "    .dataframe tbody tr th:only-of-type {\n",
       "        vertical-align: middle;\n",
       "    }\n",
       "\n",
       "    .dataframe tbody tr th {\n",
       "        vertical-align: top;\n",
       "    }\n",
       "\n",
       "    .dataframe thead th {\n",
       "        text-align: right;\n",
       "    }\n",
       "</style>\n",
       "<table border=\"1\" class=\"dataframe\">\n",
       "  <thead>\n",
       "    <tr style=\"text-align: right;\">\n",
       "      <th></th>\n",
       "      <th>show_id</th>\n",
       "      <th>type</th>\n",
       "      <th>title</th>\n",
       "      <th>director</th>\n",
       "      <th>cast</th>\n",
       "      <th>country</th>\n",
       "      <th>rating</th>\n",
       "      <th>duration</th>\n",
       "      <th>listed_in</th>\n",
       "      <th>description</th>\n",
       "    </tr>\n",
       "  </thead>\n",
       "  <tbody>\n",
       "    <tr>\n",
       "      <th>count</th>\n",
       "      <td>8807</td>\n",
       "      <td>8807</td>\n",
       "      <td>8807</td>\n",
       "      <td>6173</td>\n",
       "      <td>7982</td>\n",
       "      <td>7976</td>\n",
       "      <td>8803</td>\n",
       "      <td>8804</td>\n",
       "      <td>8807</td>\n",
       "      <td>8807</td>\n",
       "    </tr>\n",
       "    <tr>\n",
       "      <th>unique</th>\n",
       "      <td>8807</td>\n",
       "      <td>2</td>\n",
       "      <td>8807</td>\n",
       "      <td>4528</td>\n",
       "      <td>7692</td>\n",
       "      <td>748</td>\n",
       "      <td>17</td>\n",
       "      <td>220</td>\n",
       "      <td>514</td>\n",
       "      <td>8775</td>\n",
       "    </tr>\n",
       "    <tr>\n",
       "      <th>top</th>\n",
       "      <td>s1</td>\n",
       "      <td>Movie</td>\n",
       "      <td>Dick Johnson Is Dead</td>\n",
       "      <td>Rajiv Chilaka</td>\n",
       "      <td>David Attenborough</td>\n",
       "      <td>United States</td>\n",
       "      <td>TV-MA</td>\n",
       "      <td>1 Season</td>\n",
       "      <td>Dramas, International Movies</td>\n",
       "      <td>Paranormal activity at a lush, abandoned prope...</td>\n",
       "    </tr>\n",
       "    <tr>\n",
       "      <th>freq</th>\n",
       "      <td>1</td>\n",
       "      <td>6131</td>\n",
       "      <td>1</td>\n",
       "      <td>19</td>\n",
       "      <td>19</td>\n",
       "      <td>2818</td>\n",
       "      <td>3207</td>\n",
       "      <td>1793</td>\n",
       "      <td>362</td>\n",
       "      <td>4</td>\n",
       "    </tr>\n",
       "  </tbody>\n",
       "</table>\n",
       "</div>"
      ],
      "text/plain": [
       "       show_id   type                 title       director  \\\n",
       "count     8807   8807                  8807           6173   \n",
       "unique    8807      2                  8807           4528   \n",
       "top         s1  Movie  Dick Johnson Is Dead  Rajiv Chilaka   \n",
       "freq         1   6131                     1             19   \n",
       "\n",
       "                      cast        country rating  duration  \\\n",
       "count                 7982           7976   8803      8804   \n",
       "unique                7692            748     17       220   \n",
       "top     David Attenborough  United States  TV-MA  1 Season   \n",
       "freq                    19           2818   3207      1793   \n",
       "\n",
       "                           listed_in  \\\n",
       "count                           8807   \n",
       "unique                           514   \n",
       "top     Dramas, International Movies   \n",
       "freq                             362   \n",
       "\n",
       "                                              description  \n",
       "count                                                8807  \n",
       "unique                                               8775  \n",
       "top     Paranormal activity at a lush, abandoned prope...  \n",
       "freq                                                    4  "
      ]
     },
     "execution_count": 51,
     "metadata": {},
     "output_type": "execute_result"
    }
   ],
   "source": [
    "df_.describe(include='object')"
   ]
  },
  {
   "cell_type": "markdown",
   "id": "f61d1b9a",
   "metadata": {},
   "source": [
    "## Back up"
   ]
  },
  {
   "cell_type": "code",
   "execution_count": 52,
   "id": "3a9ae4d7",
   "metadata": {},
   "outputs": [],
   "source": [
    "#Backup de los datos\n",
    "df=df_.copy()"
   ]
  },
  {
   "cell_type": "markdown",
   "id": "615d7e0e",
   "metadata": {},
   "source": [
    "## Data Cleaning"
   ]
  },
  {
   "cell_type": "code",
   "execution_count": 53,
   "id": "e1a66350",
   "metadata": {},
   "outputs": [
    {
     "name": "stdout",
     "output_type": "stream",
     "text": [
      "shape: (8807, 12)\n",
      "columns: Index(['show_id', 'type', 'title', 'director', 'cast', 'country', 'date_added',\n",
      "       'release_year', 'rating', 'duration', 'listed_in', 'description'],\n",
      "      dtype='object')\n"
     ]
    }
   ],
   "source": [
    "#revisando dimensiones y variables del set de datos\n",
    "print('shape:', df.shape)\n",
    "print('columns:' ,df.columns)"
   ]
  },
  {
   "cell_type": "markdown",
   "id": "31d30c07",
   "metadata": {},
   "source": [
    "### Verificando valores perdidos y realizando la imputación"
   ]
  },
  {
   "cell_type": "code",
   "execution_count": 10,
   "id": "285318e2",
   "metadata": {},
   "outputs": [],
   "source": [
    "# #Show Id como Indice\n",
    "# df.set_index(\"show_id\", inplace=True)"
   ]
  },
  {
   "cell_type": "code",
   "execution_count": 54,
   "id": "afa2755c",
   "metadata": {},
   "outputs": [
    {
     "data": {
      "text/plain": [
       "<Figure size 720x432 with 0 Axes>"
      ]
     },
     "metadata": {},
     "output_type": "display_data"
    },
    {
     "data": {
      "image/png": "[encoded data removed]",
      "text/plain": [
       "<Figure size 781.25x360 with 1 Axes>"
      ]
     },
     "metadata": {
      "needs_background": "light"
     },
     "output_type": "display_data"
    },
    {
     "name": "stdout",
     "output_type": "stream",
     "text": [
      "Porcentaje de missing:\n",
      " director      29.91\n",
      "cast           9.37\n",
      "country        9.44\n",
      "date_added     0.11\n",
      "rating         0.05\n",
      "duration       0.03\n",
      "dtype: float64\n"
     ]
    }
   ],
   "source": [
    "#Grafica de valores nulos\n",
    "Summary_nulos=(df.isna().sum()/len(df))*100\n",
    "vars_nulls=list(Summary_nulos[Summary_nulos>0].index)\n",
    "plt.figure(figsize=(10,6))\n",
    "sns.displot(\n",
    "    data=df_[vars_nulls].isna().melt(value_name=\"missing\"),\n",
    "    y=\"variable\",\n",
    "    hue=\"missing\",\n",
    "    multiple=\"fill\",\n",
    "    aspect=2,\n",
    "    palette = \"tab10\"\n",
    ")\n",
    "plt.show()\n",
    "print('Porcentaje de missing:\\n', round(Summary_nulos[Summary_nulos>0],2))"
   ]
  },
  {
   "cell_type": "markdown",
   "id": "7e417ef3",
   "metadata": {},
   "source": [
    "Para los valores con menos de 1% de nulos se eliminará "
   ]
  },
  {
   "cell_type": "code",
   "execution_count": 55,
   "id": "f70d46fd",
   "metadata": {},
   "outputs": [],
   "source": [
    "df = df[df['date_added'].notna()]\n",
    "df = df[df['rating'].notna()]\n",
    "df = df[df['duration'].notna()]"
   ]
  },
  {
   "cell_type": "markdown",
   "id": "77bdb80b",
   "metadata": {},
   "source": [
    "Para los mayores que 1% se imputará por Na"
   ]
  },
  {
   "cell_type": "code",
   "execution_count": 56,
   "id": "5fd4b7c3",
   "metadata": {},
   "outputs": [],
   "source": [
    "df[\"director\"]= df[\"director\"].fillna(\"NaN\")\n",
    "df[\"cast\"]= df[\"cast\"].fillna(\"NaN\")\n",
    "df[\"country\"]= df[\"country\"].fillna(\"NaN\")"
   ]
  },
  {
   "cell_type": "markdown",
   "id": "5a69d7d6",
   "metadata": {},
   "source": [
    "Se realiza el features de fecha para un mejor analisis"
   ]
  },
  {
   "cell_type": "code",
   "execution_count": 57,
   "id": "b1e354fd",
   "metadata": {},
   "outputs": [],
   "source": [
    "df[\"date_added\"] = pd.to_datetime(df['date_added'])\n",
    "df['year_added'] = df['date_added'].dt.year\n",
    "df['month_added'] = df['date_added'].dt.month"
   ]
  },
  {
   "cell_type": "code",
   "execution_count": 58,
   "id": "582e8223",
   "metadata": {},
   "outputs": [],
   "source": [
    "df['season_count'] = df.apply(lambda x : x['duration'].split(\" \")[0] if \"Season\" in x['duration'] else \"\", axis = 1)\n",
    "df['duration'] = df.apply(lambda x : x['duration'].split(\" \")[0] if \"Season\" not in x['duration'] else \"\", axis = 1)"
   ]
  },
  {
   "cell_type": "code",
   "execution_count": 59,
   "id": "4b9f112e",
   "metadata": {},
   "outputs": [
    {
     "name": "stdout",
     "output_type": "stream",
     "text": [
      "<class 'pandas.core.frame.DataFrame'>\n",
      "Int64Index: 8790 entries, 0 to 8806\n",
      "Data columns (total 15 columns):\n",
      " #   Column        Non-Null Count  Dtype         \n",
      "---  ------        --------------  -----         \n",
      " 0   show_id       8790 non-null   object        \n",
      " 1   type          8790 non-null   object        \n",
      " 2   title         8790 non-null   object        \n",
      " 3   director      8790 non-null   object        \n",
      " 4   cast          8790 non-null   object        \n",
      " 5   country       8790 non-null   object        \n",
      " 6   date_added    8790 non-null   datetime64[ns]\n",
      " 7   release_year  8790 non-null   int64         \n",
      " 8   rating        8790 non-null   object        \n",
      " 9   duration      8790 non-null   object        \n",
      " 10  listed_in     8790 non-null   object        \n",
      " 11  description   8790 non-null   object        \n",
      " 12  year_added    8790 non-null   int64         \n",
      " 13  month_added   8790 non-null   int64         \n",
      " 14  season_count  8790 non-null   object        \n",
      "dtypes: datetime64[ns](1), int64(3), object(11)\n",
      "memory usage: 1.1+ MB\n"
     ]
    }
   ],
   "source": [
    "df.info()"
   ]
  },
  {
   "cell_type": "markdown",
   "id": "4f9ac6bf",
   "metadata": {},
   "source": [
    "## Normalización"
   ]
  },
  {
   "cell_type": "markdown",
   "id": "ff3f5ae6",
   "metadata": {},
   "source": [
    "Para la normalizacion se requiere creacion de tablas de dimensiones y tabla de eventos"
   ]
  },
  {
   "cell_type": "code",
   "execution_count": 60,
   "id": "10442223",
   "metadata": {},
   "outputs": [
    {
     "data": {
      "text/html": [
       "<div>\n",
       "<style scoped>\n",
       "    .dataframe tbody tr th:only-of-type {\n",
       "        vertical-align: middle;\n",
       "    }\n",
       "\n",
       "    .dataframe tbody tr th {\n",
       "        vertical-align: top;\n",
       "    }\n",
       "\n",
       "    .dataframe thead th {\n",
       "        text-align: right;\n",
       "    }\n",
       "</style>\n",
       "<table border=\"1\" class=\"dataframe\">\n",
       "  <thead>\n",
       "    <tr style=\"text-align: right;\">\n",
       "      <th></th>\n",
       "      <th>show_id</th>\n",
       "      <th>type</th>\n",
       "      <th>title</th>\n",
       "      <th>director</th>\n",
       "      <th>cast</th>\n",
       "      <th>country</th>\n",
       "      <th>date_added</th>\n",
       "      <th>release_year</th>\n",
       "      <th>rating</th>\n",
       "      <th>duration</th>\n",
       "      <th>listed_in</th>\n",
       "      <th>description</th>\n",
       "      <th>year_added</th>\n",
       "      <th>month_added</th>\n",
       "      <th>season_count</th>\n",
       "    </tr>\n",
       "  </thead>\n",
       "  <tbody>\n",
       "    <tr>\n",
       "      <th>0</th>\n",
       "      <td>s1</td>\n",
       "      <td>Movie</td>\n",
       "      <td>Dick Johnson Is Dead</td>\n",
       "      <td>Kirsten Johnson</td>\n",
       "      <td>NaN</td>\n",
       "      <td>United States</td>\n",
       "      <td>2021-09-25</td>\n",
       "      <td>2020</td>\n",
       "      <td>PG-13</td>\n",
       "      <td>90</td>\n",
       "      <td>Documentaries</td>\n",
       "      <td>As her father nears the end of his life, filmm...</td>\n",
       "      <td>2021</td>\n",
       "      <td>9</td>\n",
       "      <td></td>\n",
       "    </tr>\n",
       "    <tr>\n",
       "      <th>1</th>\n",
       "      <td>s2</td>\n",
       "      <td>TV Show</td>\n",
       "      <td>Blood &amp; Water</td>\n",
       "      <td>NaN</td>\n",
       "      <td>Ama Qamata, Khosi Ngema, Gail Mabalane, Thaban...</td>\n",
       "      <td>South Africa</td>\n",
       "      <td>2021-09-24</td>\n",
       "      <td>2021</td>\n",
       "      <td>TV-MA</td>\n",
       "      <td></td>\n",
       "      <td>International TV Shows, TV Dramas, TV Mysteries</td>\n",
       "      <td>After crossing paths at a party, a Cape Town t...</td>\n",
       "      <td>2021</td>\n",
       "      <td>9</td>\n",
       "      <td>2</td>\n",
       "    </tr>\n",
       "    <tr>\n",
       "      <th>2</th>\n",
       "      <td>s3</td>\n",
       "      <td>TV Show</td>\n",
       "      <td>Ganglands</td>\n",
       "      <td>Julien Leclercq</td>\n",
       "      <td>Sami Bouajila, Tracy Gotoas, Samuel Jouy, Nabi...</td>\n",
       "      <td>NaN</td>\n",
       "      <td>2021-09-24</td>\n",
       "      <td>2021</td>\n",
       "      <td>TV-MA</td>\n",
       "      <td></td>\n",
       "      <td>Crime TV Shows, International TV Shows, TV Act...</td>\n",
       "      <td>To protect his family from a powerful drug lor...</td>\n",
       "      <td>2021</td>\n",
       "      <td>9</td>\n",
       "      <td>1</td>\n",
       "    </tr>\n",
       "    <tr>\n",
       "      <th>3</th>\n",
       "      <td>s4</td>\n",
       "      <td>TV Show</td>\n",
       "      <td>Jailbirds New Orleans</td>\n",
       "      <td>NaN</td>\n",
       "      <td>NaN</td>\n",
       "      <td>NaN</td>\n",
       "      <td>2021-09-24</td>\n",
       "      <td>2021</td>\n",
       "      <td>TV-MA</td>\n",
       "      <td></td>\n",
       "      <td>Docuseries, Reality TV</td>\n",
       "      <td>Feuds, flirtations and toilet talk go down amo...</td>\n",
       "      <td>2021</td>\n",
       "      <td>9</td>\n",
       "      <td>1</td>\n",
       "    </tr>\n",
       "    <tr>\n",
       "      <th>4</th>\n",
       "      <td>s5</td>\n",
       "      <td>TV Show</td>\n",
       "      <td>Kota Factory</td>\n",
       "      <td>NaN</td>\n",
       "      <td>Mayur More, Jitendra Kumar, Ranjan Raj, Alam K...</td>\n",
       "      <td>India</td>\n",
       "      <td>2021-09-24</td>\n",
       "      <td>2021</td>\n",
       "      <td>TV-MA</td>\n",
       "      <td></td>\n",
       "      <td>International TV Shows, Romantic TV Shows, TV ...</td>\n",
       "      <td>In a city of coaching centers known to train I...</td>\n",
       "      <td>2021</td>\n",
       "      <td>9</td>\n",
       "      <td>2</td>\n",
       "    </tr>\n",
       "  </tbody>\n",
       "</table>\n",
       "</div>"
      ],
      "text/plain": [
       "  show_id     type                  title         director  \\\n",
       "0      s1    Movie   Dick Johnson Is Dead  Kirsten Johnson   \n",
       "1      s2  TV Show          Blood & Water              NaN   \n",
       "2      s3  TV Show              Ganglands  Julien Leclercq   \n",
       "3      s4  TV Show  Jailbirds New Orleans              NaN   \n",
       "4      s5  TV Show           Kota Factory              NaN   \n",
       "\n",
       "                                                cast        country  \\\n",
       "0                                                NaN  United States   \n",
       "1  Ama Qamata, Khosi Ngema, Gail Mabalane, Thaban...   South Africa   \n",
       "2  Sami Bouajila, Tracy Gotoas, Samuel Jouy, Nabi...            NaN   \n",
       "3                                                NaN            NaN   \n",
       "4  Mayur More, Jitendra Kumar, Ranjan Raj, Alam K...          India   \n",
       "\n",
       "  date_added  release_year rating duration  \\\n",
       "0 2021-09-25          2020  PG-13       90   \n",
       "1 2021-09-24          2021  TV-MA            \n",
       "2 2021-09-24          2021  TV-MA            \n",
       "3 2021-09-24          2021  TV-MA            \n",
       "4 2021-09-24          2021  TV-MA            \n",
       "\n",
       "                                           listed_in  \\\n",
       "0                                      Documentaries   \n",
       "1    International TV Shows, TV Dramas, TV Mysteries   \n",
       "2  Crime TV Shows, International TV Shows, TV Act...   \n",
       "3                             Docuseries, Reality TV   \n",
       "4  International TV Shows, Romantic TV Shows, TV ...   \n",
       "\n",
       "                                         description  year_added  month_added  \\\n",
       "0  As her father nears the end of his life, filmm...        2021            9   \n",
       "1  After crossing paths at a party, a Cape Town t...        2021            9   \n",
       "2  To protect his family from a powerful drug lor...        2021            9   \n",
       "3  Feuds, flirtations and toilet talk go down amo...        2021            9   \n",
       "4  In a city of coaching centers known to train I...        2021            9   \n",
       "\n",
       "  season_count  \n",
       "0               \n",
       "1            2  \n",
       "2            1  \n",
       "3            1  \n",
       "4            2  "
      ]
     },
     "execution_count": 60,
     "metadata": {},
     "output_type": "execute_result"
    }
   ],
   "source": [
    "df.head()"
   ]
  },
  {
   "cell_type": "markdown",
   "id": "eaf395f2",
   "metadata": {},
   "source": [
    "### Creando la tabla dimensional de type"
   ]
  },
  {
   "cell_type": "code",
   "execution_count": 61,
   "id": "7e59cdec",
   "metadata": {},
   "outputs": [],
   "source": [
    "unique_values = df['type'].unique()\n",
    "table_type = pd.DataFrame({'type': unique_values}).reset_index()\n",
    "table_type.columns = ['id', 'type']"
   ]
  },
  {
   "cell_type": "markdown",
   "id": "59d0a21a",
   "metadata": {},
   "source": [
    "### Creando tabla dimensional de director"
   ]
  },
  {
   "cell_type": "code",
   "execution_count": 62,
   "id": "2a76a6ce",
   "metadata": {},
   "outputs": [],
   "source": [
    "unique_values = df['director'].unique()\n",
    "table_director = pd.DataFrame({'director': unique_values}).reset_index()\n",
    "table_director.columns = ['id', 'director']"
   ]
  },
  {
   "cell_type": "markdown",
   "id": "9f67df64",
   "metadata": {},
   "source": [
    "### Creando tabla dimensional de listed_in"
   ]
  },
  {
   "cell_type": "code",
   "execution_count": 63,
   "id": "7bf97465",
   "metadata": {},
   "outputs": [],
   "source": [
    "unique_values = df['listed_in'].unique()\n",
    "table_listed_in = pd.DataFrame({'listed_in': unique_values}).reset_index()\n",
    "table_listed_in.columns = ['id', 'listed_in']"
   ]
  },
  {
   "cell_type": "markdown",
   "id": "14b6ced0",
   "metadata": {},
   "source": [
    "### Creando tabla dimensional de rating"
   ]
  },
  {
   "cell_type": "code",
   "execution_count": 64,
   "id": "ab9ca1a3",
   "metadata": {},
   "outputs": [],
   "source": [
    "unique_values = df['rating'].unique()\n",
    "table_rating = pd.DataFrame({'rating': unique_values}).reset_index()\n",
    "table_rating.columns = ['id', 'rating']"
   ]
  },
  {
   "cell_type": "code",
   "execution_count": 65,
   "id": "54ea5d19",
   "metadata": {},
   "outputs": [],
   "source": [
    "mapping = {'TV Show': 1, 'Movie': 0}\n",
    "df['id_type'] = df['type'].map(mapping)\n",
    "\n",
    "df['id_director'] = df['director'].map(\n",
    "    table_director.set_index('director')['id']\n",
    ")\n",
    "\n",
    "df['id_listed'] = df['listed_in'].map(\n",
    "    table_listed_in.set_index('listed_in')['id']\n",
    ")\n",
    "\n",
    "df['id_rating'] = df['rating'].map(\n",
    "    table_rating.set_index('rating')['id']\n",
    ")"
   ]
  },
  {
   "cell_type": "code",
   "execution_count": 66,
   "id": "9862017e",
   "metadata": {},
   "outputs": [
    {
     "name": "stdout",
     "output_type": "stream",
     "text": [
      "columns: Index(['show_id', 'type', 'title', 'director', 'cast', 'country', 'date_added',\n",
      "       'release_year', 'rating', 'duration', 'listed_in', 'description',\n",
      "       'year_added', 'month_added', 'season_count', 'id_type', 'id_director',\n",
      "       'id_listed', 'id_rating'],\n",
      "      dtype='object')\n"
     ]
    }
   ],
   "source": [
    "print('columns:' ,df.columns)"
   ]
  },
  {
   "cell_type": "code",
   "execution_count": 111,
   "id": "7a530551",
   "metadata": {},
   "outputs": [
    {
     "data": {
      "text/html": [
       "<div>\n",
       "<style scoped>\n",
       "    .dataframe tbody tr th:only-of-type {\n",
       "        vertical-align: middle;\n",
       "    }\n",
       "\n",
       "    .dataframe tbody tr th {\n",
       "        vertical-align: top;\n",
       "    }\n",
       "\n",
       "    .dataframe thead th {\n",
       "        text-align: right;\n",
       "    }\n",
       "</style>\n",
       "<table border=\"1\" class=\"dataframe\">\n",
       "  <thead>\n",
       "    <tr style=\"text-align: right;\">\n",
       "      <th></th>\n",
       "      <th>show_id</th>\n",
       "      <th>title</th>\n",
       "      <th>cast</th>\n",
       "      <th>country</th>\n",
       "      <th>date_added</th>\n",
       "      <th>release_year</th>\n",
       "      <th>duration</th>\n",
       "      <th>description</th>\n",
       "      <th>year_added</th>\n",
       "      <th>month_added</th>\n",
       "      <th>season_count</th>\n",
       "      <th>id_type</th>\n",
       "      <th>id_director</th>\n",
       "      <th>id_listed</th>\n",
       "      <th>id_rating</th>\n",
       "    </tr>\n",
       "  </thead>\n",
       "  <tbody>\n",
       "    <tr>\n",
       "      <th>0</th>\n",
       "      <td>s1</td>\n",
       "      <td>Dick Johnson Is Dead</td>\n",
       "      <td>NaN</td>\n",
       "      <td>United States</td>\n",
       "      <td>2021-09-25</td>\n",
       "      <td>2020</td>\n",
       "      <td>90</td>\n",
       "      <td>As her father nears the end of his life, filmm...</td>\n",
       "      <td>2021</td>\n",
       "      <td>9</td>\n",
       "      <td></td>\n",
       "      <td>0</td>\n",
       "      <td>0</td>\n",
       "      <td>0</td>\n",
       "      <td>0</td>\n",
       "    </tr>\n",
       "    <tr>\n",
       "      <th>1</th>\n",
       "      <td>s2</td>\n",
       "      <td>Blood &amp; Water</td>\n",
       "      <td>Ama Qamata, Khosi Ngema, Gail Mabalane, Thaban...</td>\n",
       "      <td>South Africa</td>\n",
       "      <td>2021-09-24</td>\n",
       "      <td>2021</td>\n",
       "      <td></td>\n",
       "      <td>After crossing paths at a party, a Cape Town t...</td>\n",
       "      <td>2021</td>\n",
       "      <td>9</td>\n",
       "      <td>2</td>\n",
       "      <td>1</td>\n",
       "      <td>1</td>\n",
       "      <td>1</td>\n",
       "      <td>1</td>\n",
       "    </tr>\n",
       "    <tr>\n",
       "      <th>2</th>\n",
       "      <td>s3</td>\n",
       "      <td>Ganglands</td>\n",
       "      <td>Sami Bouajila, Tracy Gotoas, Samuel Jouy, Nabi...</td>\n",
       "      <td>NaN</td>\n",
       "      <td>2021-09-24</td>\n",
       "      <td>2021</td>\n",
       "      <td></td>\n",
       "      <td>To protect his family from a powerful drug lor...</td>\n",
       "      <td>2021</td>\n",
       "      <td>9</td>\n",
       "      <td>1</td>\n",
       "      <td>1</td>\n",
       "      <td>2</td>\n",
       "      <td>2</td>\n",
       "      <td>1</td>\n",
       "    </tr>\n",
       "    <tr>\n",
       "      <th>3</th>\n",
       "      <td>s4</td>\n",
       "      <td>Jailbirds New Orleans</td>\n",
       "      <td>NaN</td>\n",
       "      <td>NaN</td>\n",
       "      <td>2021-09-24</td>\n",
       "      <td>2021</td>\n",
       "      <td></td>\n",
       "      <td>Feuds, flirtations and toilet talk go down amo...</td>\n",
       "      <td>2021</td>\n",
       "      <td>9</td>\n",
       "      <td>1</td>\n",
       "      <td>1</td>\n",
       "      <td>1</td>\n",
       "      <td>3</td>\n",
       "      <td>1</td>\n",
       "    </tr>\n",
       "  </tbody>\n",
       "</table>\n",
       "</div>"
      ],
      "text/plain": [
       "  show_id                  title  \\\n",
       "0      s1   Dick Johnson Is Dead   \n",
       "1      s2          Blood & Water   \n",
       "2      s3              Ganglands   \n",
       "3      s4  Jailbirds New Orleans   \n",
       "\n",
       "                                                cast        country  \\\n",
       "0                                                NaN  United States   \n",
       "1  Ama Qamata, Khosi Ngema, Gail Mabalane, Thaban...   South Africa   \n",
       "2  Sami Bouajila, Tracy Gotoas, Samuel Jouy, Nabi...            NaN   \n",
       "3                                                NaN            NaN   \n",
       "\n",
       "  date_added  release_year duration  \\\n",
       "0 2021-09-25          2020       90   \n",
       "1 2021-09-24          2021            \n",
       "2 2021-09-24          2021            \n",
       "3 2021-09-24          2021            \n",
       "\n",
       "                                         description  year_added  month_added  \\\n",
       "0  As her father nears the end of his life, filmm...        2021            9   \n",
       "1  After crossing paths at a party, a Cape Town t...        2021            9   \n",
       "2  To protect his family from a powerful drug lor...        2021            9   \n",
       "3  Feuds, flirtations and toilet talk go down amo...        2021            9   \n",
       "\n",
       "  season_count  id_type  id_director  id_listed  id_rating  \n",
       "0                     0            0          0          0  \n",
       "1            2        1            1          1          1  \n",
       "2            1        1            2          2          1  \n",
       "3            1        1            1          3          1  "
      ]
     },
     "execution_count": 111,
     "metadata": {},
     "output_type": "execute_result"
    }
   ],
   "source": [
    "columnas_seleccionadas = ['show_id','title', 'cast', 'country', 'date_added',\n",
    "       'release_year', 'duration', 'description','year_added', 'month_added', 'season_count', 'id_type', 'id_director',\n",
    "       'id_listed', 'id_rating']\n",
    "table_dim = df[columnas_seleccionadas]\n",
    "\n",
    "table_dim.head(4)"
   ]
  },
  {
   "cell_type": "markdown",
   "id": "226657ba",
   "metadata": {},
   "source": [
    "# Exportando database to SQL server"
   ]
  },
  {
   "cell_type": "code",
   "execution_count": 112,
   "id": "bf1ebd51",
   "metadata": {},
   "outputs": [
    {
     "name": "stdout",
     "output_type": "stream",
     "text": [
      "Requirement already satisfied: pandas in c:\\users\\c_and\\anaconda3\\lib\\site-packages (1.4.2)\n",
      "Requirement already satisfied: pyodbc in c:\\users\\c_and\\anaconda3\\lib\\site-packages (4.0.32)\n",
      "Requirement already satisfied: sqlalchemy in c:\\users\\c_and\\anaconda3\\lib\\site-packages (1.4.32)\n",
      "Requirement already satisfied: numpy>=1.18.5 in c:\\users\\c_and\\anaconda3\\lib\\site-packages (from pandas) (1.22.4)\n",
      "Requirement already satisfied: pytz>=2020.1 in c:\\users\\c_and\\anaconda3\\lib\\site-packages (from pandas) (2021.3)\n",
      "Requirement already satisfied: python-dateutil>=2.8.1 in c:\\users\\c_and\\anaconda3\\lib\\site-packages (from pandas) (2.8.2)\n",
      "Requirement already satisfied: greenlet!=0.4.17 in c:\\users\\c_and\\anaconda3\\lib\\site-packages (from sqlalchemy) (1.1.1)\n",
      "Requirement already satisfied: six>=1.5 in c:\\users\\c_and\\anaconda3\\lib\\site-packages (from python-dateutil>=2.8.1->pandas) (1.16.0)\n",
      "Note: you may need to restart the kernel to use updated packages.\n"
     ]
    },
    {
     "name": "stderr",
     "output_type": "stream",
     "text": [
      "WARNING: Ignoring invalid distribution -ymongo (c:\\users\\c_and\\anaconda3\\lib\\site-packages)\n",
      "WARNING: Ignoring invalid distribution -ymongo (c:\\users\\c_and\\anaconda3\\lib\\site-packages)\n",
      "WARNING: Ignoring invalid distribution -ymongo (c:\\users\\c_and\\anaconda3\\lib\\site-packages)\n",
      "WARNING: Ignoring invalid distribution -ymongo (c:\\users\\c_and\\anaconda3\\lib\\site-packages)\n",
      "WARNING: Ignoring invalid distribution -ymongo (c:\\users\\c_and\\anaconda3\\lib\\site-packages)\n",
      "WARNING: Ignoring invalid distribution -ymongo (c:\\users\\c_and\\anaconda3\\lib\\site-packages)\n"
     ]
    }
   ],
   "source": [
    "pip install pandas pyodbc sqlalchemy"
   ]
  },
  {
   "cell_type": "markdown",
   "id": "ffb44cc0",
   "metadata": {},
   "source": [
    "## Conexión a la base de datos"
   ]
  },
  {
   "cell_type": "markdown",
   "id": "100ba24e",
   "metadata": {},
   "source": [
    "Creación de base de datos"
   ]
  },
  {
   "cell_type": "code",
   "execution_count": 73,
   "id": "33f5b6f9",
   "metadata": {},
   "outputs": [],
   "source": [
    "import pyodbc\n",
    "\n",
    "# Configurar la conexión al servidor SQL Server\n",
    "server = 'ANDRES\\SQLEXPRESS' #Colorcar el nombre del servidor en donde se encuentra instalado SQL Server\n",
    "database = 'Master'\n",
    "username = 'sa'\n",
    "password = 'vicente'\n",
    "\n",
    "conn_str = f'DRIVER={{SQL Server}};SERVER={server};DATABASE={database};UID={username};PWD={password}'\n",
    "conn = pyodbc.connect(conn_str)\n",
    "\n",
    "# Nombre de la nueva base de datos\n",
    "new_database_name = 'Netflix_and_TV_show'\n",
    "\n",
    "# Crear la nueva base de datos\n",
    "create_database_query = f\"CREATE DATABASE {new_database_name};\"\n",
    "cursor = conn.cursor()\n",
    "cursor.execute(create_database_query)\n",
    "conn.commit()\n",
    "cursor.close()"
   ]
  },
  {
   "cell_type": "code",
   "execution_count": 76,
   "id": "a186d8e3",
   "metadata": {},
   "outputs": [
    {
     "name": "stdout",
     "output_type": "stream",
     "text": [
      "columns: Index(['show_id', 'title', 'cast', 'country', 'date_added', 'release_year',\n",
      "       'duration', 'description', 'year_added', 'month_added', 'season_count',\n",
      "       'id_type', 'id_director', 'id_listed', 'id_rating'],\n",
      "      dtype='object')\n",
      "columns: Index(['id', 'director'], dtype='object')\n",
      "columns: Index(['id', 'listed_in'], dtype='object')\n",
      "columns: Index(['id', 'type'], dtype='object')\n",
      "columns: Index(['id', 'rating'], dtype='object')\n"
     ]
    }
   ],
   "source": [
    "print('columns:' ,table_dim.columns)\n",
    "print('columns:' ,table_director.columns)\n",
    "print('columns:' ,table_listed_in.columns)\n",
    "print('columns:' ,table_type.columns)\n",
    "print('columns:' ,table_rating.columns)"
   ]
  },
  {
   "cell_type": "markdown",
   "id": "1d2bb596",
   "metadata": {},
   "source": [
    "Creando tabla de type"
   ]
  },
  {
   "cell_type": "code",
   "execution_count": 123,
   "id": "d3514cd9",
   "metadata": {},
   "outputs": [
    {
     "ename": "ProgrammingError",
     "evalue": "('42S01', \"[42S01] [Microsoft][ODBC SQL Server Driver][SQL Server]There is already an object named 'table_type' in the database. (2714) (SQLExecDirectW)\")",
     "output_type": "error",
     "traceback": [
      "\u001b[1;31m---------------------------------------------------------------------------\u001b[0m",
      "\u001b[1;31mProgrammingError\u001b[0m                          Traceback (most recent call last)",
      "Input \u001b[1;32mIn [123]\u001b[0m, in \u001b[0;36m<cell line: 17>\u001b[1;34m()\u001b[0m\n\u001b[0;32m     10\u001b[0m \u001b[38;5;66;03m# Crear tabla table_type\u001b[39;00m\n\u001b[0;32m     11\u001b[0m create_table_type_query \u001b[38;5;241m=\u001b[39m \u001b[38;5;124m\"\"\"\u001b[39m\n\u001b[0;32m     12\u001b[0m \u001b[38;5;124mCREATE TABLE table_type (\u001b[39m\n\u001b[0;32m     13\u001b[0m \u001b[38;5;124m    id VARCHAR(50) PRIMARY KEY,\u001b[39m\n\u001b[0;32m     14\u001b[0m \u001b[38;5;124m    type VARCHAR(255) NOT NULL\u001b[39m\n\u001b[0;32m     15\u001b[0m \u001b[38;5;124m);\u001b[39m\n\u001b[0;32m     16\u001b[0m \u001b[38;5;124m\"\"\"\u001b[39m\n\u001b[1;32m---> 17\u001b[0m \u001b[43mcursor\u001b[49m\u001b[38;5;241;43m.\u001b[39;49m\u001b[43mexecute\u001b[49m\u001b[43m(\u001b[49m\u001b[43mcreate_table_type_query\u001b[49m\u001b[43m)\u001b[49m\n\u001b[0;32m     18\u001b[0m conn\u001b[38;5;241m.\u001b[39mcommit()\n\u001b[0;32m     20\u001b[0m table_type\u001b[38;5;241m.\u001b[39mto_sql(\u001b[38;5;124m'\u001b[39m\u001b[38;5;124mtable_type\u001b[39m\u001b[38;5;124m'\u001b[39m, conn, index\u001b[38;5;241m=\u001b[39m\u001b[38;5;28;01mFalse\u001b[39;00m, if_exists\u001b[38;5;241m=\u001b[39m\u001b[38;5;124m'\u001b[39m\u001b[38;5;124mreplace\u001b[39m\u001b[38;5;124m'\u001b[39m)\n",
      "\u001b[1;31mProgrammingError\u001b[0m: ('42S01', \"[42S01] [Microsoft][ODBC SQL Server Driver][SQL Server]There is already an object named 'table_type' in the database. (2714) (SQLExecDirectW)\")"
     ]
    }
   ],
   "source": [
    "# Configurar la conexión a la base de datos\n",
    "server = 'ANDRES\\SQLEXPRESS' #Colorcar el nombre del servidor en donde se encuentra instalado SQL Server\n",
    "database = 'Netflix_and_TV_show'\n",
    "username = 'sa'\n",
    "password = 'vicente'\n",
    "\n",
    "conn_str = f'DRIVER={{SQL Server}};SERVER={server};DATABASE={database};UID={username};PWD={password}'\n",
    "conn = pyodbc.connect(conn_str)\n",
    "cursor = conn.cursor()\n",
    "# Crear tabla table_type\n",
    "create_table_type_query = \"\"\"\n",
    "CREATE TABLE table_type (\n",
    "    id VARCHAR(50) PRIMARY KEY,\n",
    "    type VARCHAR(255) NOT NULL\n",
    ");\n",
    "\"\"\"\n",
    "cursor.execute(create_table_type_query)\n",
    "conn.commit()\n",
    "\n",
    "table_type.to_sql('table_type', conn, index=False, if_exists='replace')"
   ]
  },
  {
   "cell_type": "markdown",
   "id": "68a71bc8",
   "metadata": {},
   "source": [
    "Creando tabla de directores"
   ]
  },
  {
   "cell_type": "code",
   "execution_count": 124,
   "id": "0e740385",
   "metadata": {},
   "outputs": [],
   "source": [
    "# Configurar la conexión a la base de datos\n",
    "server = 'ANDRES\\SQLEXPRESS' #Colorcar el nombre del servidor en donde se encuentra instalado SQL Server\n",
    "database = 'Netflix_and_TV_show'\n",
    "username = 'sa'\n",
    "password = 'vicente'\n",
    "\n",
    "conn_str = f'DRIVER={{SQL Server}};SERVER={server};DATABASE={database};UID={username};PWD={password}'\n",
    "conn = pyodbc.connect(conn_str)\n",
    "cursor = conn.cursor()\n",
    "# Crear tabla table_director\n",
    "create_table_director_query = \"\"\"\n",
    "CREATE TABLE table_director (\n",
    "    id VARCHAR(50) PRIMARY KEY,\n",
    "    director VARCHAR(255) NOT NULL\n",
    ");\n",
    "\"\"\"\n",
    "cursor.execute(create_table_director_query)\n",
    "conn.commit()"
   ]
  },
  {
   "cell_type": "markdown",
   "id": "ab2aa2e5",
   "metadata": {},
   "source": [
    "Creando tabla listed_in"
   ]
  },
  {
   "cell_type": "code",
   "execution_count": 126,
   "id": "8dce4f5e",
   "metadata": {},
   "outputs": [],
   "source": [
    "# Configurar la conexión a la base de datos\n",
    "server = 'ANDRES\\SQLEXPRESS' #Colorcar el nombre del servidor en donde se encuentra instalado SQL Server\n",
    "database = 'Netflix_and_TV_show'\n",
    "username = 'sa'\n",
    "password = 'vicente'\n",
    "\n",
    "conn_str = f'DRIVER={{SQL Server}};SERVER={server};DATABASE={database};UID={username};PWD={password}'\n",
    "conn = pyodbc.connect(conn_str)\n",
    "cursor = conn.cursor()\n",
    "# Crear tabla table_listed_in\n",
    "create_table_listed_in_query = \"\"\"\n",
    "CREATE TABLE table_listed_in (\n",
    "    id VARCHAR(50) PRIMARY KEY,\n",
    "    listed_in VARCHAR(255) NOT NULL\n",
    ");\n",
    "\"\"\"\n",
    "cursor.execute(create_table_listed_in_query)\n",
    "conn.commit()"
   ]
  },
  {
   "cell_type": "markdown",
   "id": "dd82c9fd",
   "metadata": {},
   "source": [
    "Creando tabla rating"
   ]
  },
  {
   "cell_type": "code",
   "execution_count": 127,
   "id": "7491b03b",
   "metadata": {},
   "outputs": [],
   "source": [
    "# Configurar la conexión a la base de datos\n",
    "server = 'ANDRES\\SQLEXPRESS' #Colorcar el nombre del servidor en donde se encuentra instalado SQL Server\n",
    "database = 'Netflix_and_TV_show'\n",
    "username = 'sa'\n",
    "password = 'vicente'\n",
    "\n",
    "conn_str = f'DRIVER={{SQL Server}};SERVER={server};DATABASE={database};UID={username};PWD={password}'\n",
    "conn = pyodbc.connect(conn_str)\n",
    "cursor = conn.cursor()\n",
    "# Crear tabla table_listed_in\n",
    "create_table_rating_query = \"\"\"\n",
    "CREATE TABLE table_rating (\n",
    "    id VARCHAR(50) PRIMARY KEY,\n",
    "    rating VARCHAR(255) NOT NULL\n",
    ");\n",
    "\"\"\"\n",
    "cursor.execute(create_table_rating_query)\n",
    "conn.commit()"
   ]
  },
  {
   "cell_type": "code",
   "execution_count": 128,
   "id": "95d2b013",
   "metadata": {},
   "outputs": [],
   "source": [
    "# Establecer la conexión con la base de datos\n",
    "server = 'ANDRES\\SQLEXPRESS' #Colorcar el nombre del servidor en donde se encuentra instalado SQL Server\n",
    "database = 'Netflix_and_TV_show'\n",
    "username = 'sa'\n",
    "password = 'vicente'\n",
    "\n",
    "conn_str = f'DRIVER={{SQL Server}};SERVER={server};DATABASE={database};UID={username};PWD={password}'\n",
    "conn = pyodbc.connect(conn_str)\n",
    "cursor = conn.cursor()\n",
    "\n",
    "# Crear tu consulta SQL para crear la tabla\n",
    "create_table_dim_query = \"\"\"\n",
    "CREATE TABLE table_dim (\n",
    "    show_id VARCHAR(50),\n",
    "    title VARCHAR(255),\n",
    "    cast VARCHAR(max),\n",
    "    country VARCHAR(255),\n",
    "    date_added datetime,\n",
    "    release_year INT,\n",
    "    duration VARCHAR(20),\n",
    "    description VARCHAR(max),\n",
    "    year_added INT,\n",
    "    month_added INT,\n",
    "    season_count VARCHAR(max),\n",
    "    id_type INT,\n",
    "    id_director INT,\n",
    "    id_listed INT,\n",
    "    id_rating INT,\n",
    "    PRIMARY KEY(show_id)\n",
    "\n",
    ");\n",
    "\"\"\"\n",
    "\n",
    "# Ejecutar la consulta para crear la tabla\n",
    "cursor.execute(create_table_dim_query)\n",
    "conn.commit()\n",
    "\n",
    "# Cerrar la conexión\n",
    "conn.close()"
   ]
  },
  {
   "cell_type": "markdown",
   "id": "8e113681",
   "metadata": {},
   "source": [
    "Insertando los dataset normalizados a la base de datos"
   ]
  },
  {
   "cell_type": "code",
   "execution_count": 129,
   "id": "886c7aac",
   "metadata": {},
   "outputs": [
    {
     "data": {
      "text/plain": [
       "-1"
      ]
     },
     "execution_count": 129,
     "metadata": {},
     "output_type": "execute_result"
    }
   ],
   "source": [
    "table_dim.to_sql('table_dim', con=engine, index=False, if_exists='replace')\n",
    "table_type.to_sql('table_type', con=engine, index=False, if_exists='replace')\n",
    "table_director.to_sql('table_director', con=engine, index=False, if_exists='replace')\n",
    "table_listed_in.to_sql('table_listed_in', con=engine, index=False, if_exists='replace')\n",
    "table_rating.to_sql('table_rating', con=engine, index=False, if_exists='replace')"
   ]
  },
  {
   "cell_type": "markdown",
   "id": "8e8cb3c0",
   "metadata": {},
   "source": [
    "Creando la vista para la exportación a Power BI y Excel"
   ]
  },
  {
   "cell_type": "code",
   "execution_count": null,
   "id": "4c08fa9c",
   "metadata": {},
   "outputs": [],
   "source": [
    "# Definir la cadena de conexión\n",
    "server = 'ANDRES\\SQLEXPRESS' #Colorcar el nombre del servidor en donde se encuentra instalado SQL Server\n",
    "database = 'Netflix_and_TV_show'\n",
    "username = 'sa'\n",
    "password = 'vicente'\n",
    "\n",
    "conn_str = f'DRIVER={{SQL Server}};SERVER={server};DATABASE={database};UID={username};PWD={password}'\n",
    "conn = pyodbc.connect(conn_str)\n",
    "cursor = conn.cursor()\n",
    "\n",
    "# Definir el script SQL para crear la vista\n",
    "create_view_query = \"\"\"\n",
    "CREATE VIEW dbo.Reporting\n",
    "AS\n",
    "SELECT\n",
    "    table_dim.show_id,\n",
    "    table_dim.title,\n",
    "    table_dim.cast,\n",
    "    table_dim.country,\n",
    "    table_dim.date_added,\n",
    "    table_dim.release_year,\n",
    "    table_dim.duration,\n",
    "    table_dim.description,\n",
    "    table_dim.year_added,\n",
    "    table_dim.month_added,\n",
    "    table_dim.season_count,\n",
    "    table_dim.id_type AS dim_id_type,\n",
    "    table_dim.id_director AS dim_id_director,\n",
    "    table_dim.id_listed AS dim_id_listed,\n",
    "    table_dim.id_rating AS dim_id_rating,\n",
    "    table_director.id AS director_id,\n",
    "    table_director.director,\n",
    "    table_listed_in.id AS listed_in_id,\n",
    "    table_listed_in.listed_in,\n",
    "    table_rating.id AS rating_id,\n",
    "    table_rating.rating,\n",
    "    table_type.id AS type_id,\n",
    "    table_type.type\n",
    "FROM\n",
    "    table_dim\n",
    "LEFT JOIN\n",
    "    table_director ON table_dim.id_director = table_director.id\n",
    "LEFT JOIN\n",
    "    table_listed_in ON table_dim.id_listed = table_listed_in.id\n",
    "LEFT JOIN \n",
    "    table_rating ON table_dim.id_rating = table_rating.id\n",
    "LEFT JOIN\n",
    "    table_type ON table_dim.id_type = table_type.id;\n",
    "\"\"\"\n",
    "\n",
    "# Ejecutar el script SQL\n",
    "cursor.execute(create_view_query)\n",
    "conn.commit()\n",
    "\n",
    "# Cerrar la conexión\n",
    "conn.close()"
   ]
  }
 ],
 "metadata": {
  "kernelspec": {
   "display_name": "Python 3 (ipykernel)",
   "language": "python",
   "name": "python3"
  },
  "language_info": {
   "codemirror_mode": {
    "name": "ipython",
    "version": 3
   },
   "file_extension": ".py",
   "mimetype": "text/x-python",
   "name": "python",
   "nbconvert_exporter": "python",
   "pygments_lexer": "ipython3",
   "version": "3.9.12"
  }
 },
 "nbformat": 4,
 "nbformat_minor": 5
}
